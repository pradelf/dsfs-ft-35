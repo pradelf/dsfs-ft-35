{
  "nbformat": 4,
  "nbformat_minor": 0,
  "metadata": {
    "colab": {
      "provenance": []
    },
    "kernelspec": {
      "name": "python3",
      "display_name": "Python 3"
    },
    "language_info": {
      "name": "python"
    }
  },
  "cells": [
    {
      "cell_type": "markdown",
      "source": [
        "# To Do list\n",
        "Projet pour développer une todo list.\n",
        "\n",
        "Fonctionalités que vous pouvez implémenter:\n",
        "\n",
        "- Liste de taches avec une description, une date de fin, une priorité, et meme un statut de progrès\n",
        "- Ajout, suppression et modification de taches\n",
        "- Affichage de taches (avec la possibilité de filter sur les taches eg. tout les taches de priorité haute, ou tout les taches avec une deadline dans moins de 10 jours)\n",
        "- Afficher la quantité de tache restant à compléter\n",
        "- Trier les taches en ordre de priorité ou deadline\n",
        "\n",
        "Fonctionalités challenge bonus:\n",
        "\n",
        "- Les taches eux meme peuvent etre considerer comme des objets avec des attributs, est-ce vous pouvez peut etre les écrire en forme de classe aussi?\n",
        "- Est-ce vous pouvez trouver un moyen de proposer à l'utilisateur une suggestion de la meilleur tache sur lequel il devrait travailler? Par exemple celui avec la priorité la plus haute et le deadline le plus proche\n"
      ],
      "metadata": {
        "id": "TGsYSaa908UQ"
      }
    },
    {
      "cell_type": "code",
      "execution_count": 89,
      "metadata": {
        "id": "SfXPAEEs0xfg"
      },
      "outputs": [],
      "source": [
        "from enum import Enum, IntEnum\n",
        "from datetime import date, datetime, timedelta\n",
        "class Task():\n",
        "  class STATE(Enum):\n",
        "    TODO=1,\n",
        "    WIP=2,\n",
        "    DONE=3\n",
        "  class PRIORITY(IntEnum):\n",
        "    __str__ = Enum.__str__\n",
        "    LOW=1,\n",
        "    MEDIUM=2,\n",
        "    HIGH=3\n",
        "  def __init__(self,description,ending_date=date.today(), priority=PRIORITY.MEDIUM, status=STATE.TODO):\n",
        "    self.description=description\n",
        "    self.end=ending_date\n",
        "    self.priority=priority\n",
        "    self.status=status\n",
        "  def print(self):\n",
        "    print(f\"Tâche : {self.description} pour le {self.end} avec la priorité {self.priority} et dans l'état {self.status}\")\n",
        "\n",
        "class TodoList():\n",
        "  class STRATEGY(Enum):\n",
        "    DATE=1,\n",
        "    PRIORITY=2,\n",
        "    NONE=3\n",
        "  def __init__(self,name=\"default\"):\n",
        "    self.name=name\n",
        "    self.liste=[]\n",
        "  def getTask(self,task:Task):\n",
        "    return self.liste[self.liste.index(task)]\n",
        "  def addTask(self, task:Task):\n",
        "    self.liste.append(task)\n",
        "  def deleteTask(self, task):\n",
        "    self.liste.remove(task)\n",
        "  def numberRemainingTasks(self):\n",
        "    len([element for element in self.liste if element.status <3] )\n",
        "  def printTasks(self,strategy=STRATEGY.NONE):\n",
        "    print(f\" Ma Liste de Tâche : {self.name} taille : {self.size()}\")\n",
        "    if strategy==self.STRATEGY.DATE:\n",
        "      affichage=[element for element in self.liste if element.end < date.today()+ timedelta(days=10)]\n",
        "      for task in affichage:\n",
        "        task.print()\n",
        "    elif strategy==self.STRATEGY.PRIORITY:\n",
        "      affichage=[element for element in self.liste if element.priority==Task.PRIORITY.HIGH]\n",
        "      for task in affichage:\n",
        "        task.print()\n",
        "    else:\n",
        "      for task in self.liste:\n",
        "        task.print()\n",
        "\n",
        "  def sort(self,strategy):\n",
        "    if strategy==self.STRATEGY.DATE:\n",
        "      self.liste=sorted(self.liste, key=lambda task: task.end)\n",
        "    elif strategy==self.STRATEGY.PRIORITY:\n",
        "      self.liste=sorted(self.liste, key=lambda task: task.priority)\n",
        "    else:\n",
        "      raise ValueError(\"Choix du tri inexistant\")\n",
        "  def size(self):\n",
        "    return len(self.liste)\n",
        ""
      ]
    },
    {
      "cell_type": "code",
      "source": [
        "t0=Task(\"tâche 0\",date(2025,12,1),Task.PRIORITY.HIGH,Task.STATE.TODO)\n",
        "t1=Task(\"tâche 1\",date.today(),Task.PRIORITY.MEDIUM)\n",
        "t2=Task(\"tâche 2\",date(2025,6,1),1, Task.STATE.WIP)\n",
        "t4=Task(\"tâche 3\",date(2024,6,1),1, Task.STATE.TODO)\n",
        "\n",
        "todoList=TodoList()\n",
        "todoList.addTask(t0)\n",
        "todoList.addTask(t1)\n",
        "todoList.addTask(t2)\n",
        "\n",
        "todoList.sort(TodoList.STRATEGY.DATE)\n",
        "todoList.printTasks()\n",
        "t5=todoList.getTask(t1)\n",
        "t5.end=date(1970,1,1)\n",
        "todoList.deleteTask(t2)\n",
        "todoList.sort(TodoList.STRATEGY.PRIORITY)\n",
        "todoList.printTasks()"
      ],
      "metadata": {
        "colab": {
          "base_uri": "https://localhost:8080/"
        },
        "id": "7LlEXkzw2b8T",
        "outputId": "59d63608-3897-4d38-d962-0c2edee794fa"
      },
      "execution_count": 90,
      "outputs": [
        {
          "output_type": "stream",
          "name": "stdout",
          "text": [
            " Ma Liste de Tâche : default taille : 3\n",
            "Tâche : tâche 1 pour le 2025-05-07 avec la priorité PRIORITY.MEDIUM et dans l'état STATE.TODO\n",
            "Tâche : tâche 2 pour le 2025-06-01 avec la priorité 1 et dans l'état STATE.WIP\n",
            "Tâche : tâche 0 pour le 2025-12-01 avec la priorité PRIORITY.HIGH et dans l'état STATE.TODO\n",
            " Ma Liste de Tâche : default taille : 2\n",
            "Tâche : tâche 1 pour le 1970-01-01 avec la priorité PRIORITY.MEDIUM et dans l'état STATE.TODO\n",
            "Tâche : tâche 0 pour le 2025-12-01 avec la priorité PRIORITY.HIGH et dans l'état STATE.TODO\n"
          ]
        }
      ]
    },
    {
      "cell_type": "code",
      "source": [],
      "metadata": {
        "id": "YXJSmop46FOT"
      },
      "execution_count": null,
      "outputs": []
    }
  ]
}