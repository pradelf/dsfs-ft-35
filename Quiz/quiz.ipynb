{
  "nbformat": 4,
  "nbformat_minor": 0,
  "metadata": {
    "colab": {
      "provenance": [],
      "toc_visible": true
    },
    "kernelspec": {
      "name": "python3",
      "display_name": "Python 3"
    },
    "language_info": {
      "name": "python"
    }
  },
  "cells": [
    {
      "cell_type": "markdown",
      "source": [
        "# Rebuild the Quiz\n",
        "\n",
        "Création du Quiz sous forme de classe.\n"
      ],
      "metadata": {
        "id": "XUDI38R8wkwk"
      }
    },
    {
      "cell_type": "code",
      "source": [
        "class Quiz():\n",
        "  def __init__(self,quiz):\n",
        "    self.quiz=quiz\n",
        "  def launch(self):\n",
        "    nb_de_chances=3\n",
        "    for item, reponse in self.quiz.items():\n",
        "      if nb_de_chances <= 0:\n",
        "        break\n",
        "      question=input(item)\n",
        "      question = question.lower()\n",
        "      while question != reponse.lower():\n",
        "          nb_de_chances -=1\n",
        "          print(\"Dommage ! Il te reste {} chances\".format(nb_de_chances))\n",
        "          if nb_de_chances == 0:\n",
        "            print(\"Oh non ! Tu as perdu le jeu...\")\n",
        "            break\n",
        "          question=input(item)\n",
        "          question = question.lower()\n",
        "    if nb_de_chances > 0:\n",
        "      print(\"Bravo ! Tu as gagné le quiz !\")\n"
      ],
      "metadata": {
        "colab": {
          "base_uri": "https://localhost:8080/"
        },
        "id": "iRLkvrGPvCIf",
        "outputId": "9092e7ef-164d-448c-f679-3b99b002a29f"
      },
      "execution_count": null,
      "outputs": [
        {
          "output_type": "stream",
          "name": "stdout",
          "text": [
            "Voici notre quiz, tu as trois chances !\n",
            "Combien de fois la France a gagné la coupe du monde ? 2\n",
            "Quand a été fondé Apple ? 1976\n",
            "Qui a fondé SpaceX ? elon musk\n",
            "Bravo ! Tu as gagné le quiz !\n"
          ]
        }
      ]
    },
    {
      "cell_type": "markdown",
      "source": [
        "Exemple de création et lancement d'un Quiz."
      ],
      "metadata": {
        "id": "PJ6LeBjWtBMK"
      }
    },
    {
      "cell_type": "code",
      "source": [
        "quiz={\"Combien de fois la France a gagné la coupe du monde ?\" : \"2\", \"Quand a été fondé Apple ? \": \"1976\", \"Qui a fondé SpaceX ? \":\"elon musk\" }\n",
        "my_quiz=Quiz(quiz)\n",
        "my_quiz.launch()"
      ],
      "metadata": {
        "id": "IvU2pMIgs9wj"
      },
      "execution_count": null,
      "outputs": []
    }
  ]
}